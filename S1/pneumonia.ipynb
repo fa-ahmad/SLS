{
 "cells": [
  {
   "cell_type": "markdown",
   "id": "cf121b68-e7f9-419a-a04f-338c98cbfb26",
   "metadata": {},
   "source": [
    "## Step 0\n",
    "### Get to know the environment\n",
    "- Run BASH commands from this notebook\n",
    "- Go up and down the directory tree"
   ]
  },
  {
   "cell_type": "code",
   "execution_count": null,
   "id": "158cda7b-9c4d-4fbc-b5f9-e527efaaec1e",
   "metadata": {},
   "outputs": [],
   "source": []
  },
  {
   "cell_type": "markdown",
   "id": "29d4ec8b",
   "metadata": {},
   "source": [
    "## Step 1\n",
    "### Download the Kaggle Chest X-ray (Pneumonia) Dataset\n",
    "- Create a Kaggle account\n",
    "- Go to the [account](https://www.kaggle.com/udacityinc/account) page.\n",
    "- Create and download an API token to your personal system."
   ]
  },
  {
   "cell_type": "markdown",
   "id": "322eda8d",
   "metadata": {},
   "source": [
    "## Step 2\n",
    "### Install the Kaggle API \\[[Reference](https://www.kaggle.com/docs/api#installation)\\]"
   ]
  },
  {
   "cell_type": "code",
   "execution_count": null,
   "id": "129ca6fb",
   "metadata": {},
   "outputs": [],
   "source": []
  },
  {
   "cell_type": "markdown",
   "id": "54ba6bfd",
   "metadata": {},
   "source": [
    "## Step 3 \n",
    "### Set up Kaggle API token \\[[Reference](https://www.kaggle.com/docs/api#authentication)\\]\n",
    "- Move the Kaggle API token to a directory named `.kaggle` inside the home directory "
   ]
  },
  {
   "cell_type": "markdown",
   "id": "dcf0d94d",
   "metadata": {},
   "source": [
    "Check the directory we are in."
   ]
  },
  {
   "cell_type": "code",
   "execution_count": null,
   "id": "278b99c1",
   "metadata": {},
   "outputs": [],
   "source": []
  },
  {
   "cell_type": "markdown",
   "id": "b4780917",
   "metadata": {},
   "source": [
    "Create the hidden directory `.kaggle` inside the home directory"
   ]
  },
  {
   "cell_type": "code",
   "execution_count": null,
   "id": "6564d96c",
   "metadata": {},
   "outputs": [],
   "source": []
  },
  {
   "cell_type": "markdown",
   "id": "9f799e4c",
   "metadata": {},
   "source": [
    "Check that the direcotry has been created."
   ]
  },
  {
   "cell_type": "code",
   "execution_count": null,
   "id": "550d3d4a",
   "metadata": {},
   "outputs": [],
   "source": []
  },
  {
   "cell_type": "markdown",
   "id": "fab8bef3",
   "metadata": {},
   "source": [
    "From the GUI upload the kaggle.json API token file to the current direcotry \n",
    "then move it to the newly created directory"
   ]
  },
  {
   "cell_type": "code",
   "execution_count": null,
   "id": "2768e1df",
   "metadata": {},
   "outputs": [],
   "source": []
  },
  {
   "cell_type": "markdown",
   "id": "14e0338d",
   "metadata": {},
   "source": [
    "\\[OPTIONAL\\]Restrict access rights to the API token."
   ]
  },
  {
   "cell_type": "code",
   "execution_count": null,
   "id": "a95ea092",
   "metadata": {},
   "outputs": [],
   "source": [
    "!chmod 600 /home/ec2-user/.kaggle/kaggle.json"
   ]
  },
  {
   "cell_type": "markdown",
   "id": "ce297075",
   "metadata": {},
   "source": [
    "## Step 4\n",
    "### Set up the dataset in Sagemaker\n",
    "- Create a directory named `data`\n",
    "- Download the [pneumonia dataset](https://www.kaggle.com/paultimothymooney/chest-xray-pneumonia) using the Kaggle API\n",
    "- Unzip the dataset"
   ]
  },
  {
   "cell_type": "code",
   "execution_count": null,
   "id": "a8794bf3",
   "metadata": {},
   "outputs": [],
   "source": []
  },
  {
   "cell_type": "code",
   "execution_count": null,
   "id": "f6431a34",
   "metadata": {},
   "outputs": [],
   "source": []
  },
  {
   "cell_type": "code",
   "execution_count": null,
   "id": "4b12b209-a4e2-4657-a7fe-65c9ba6e6e49",
   "metadata": {},
   "outputs": [],
   "source": []
  },
  {
   "cell_type": "markdown",
   "id": "3fc428d6",
   "metadata": {},
   "source": [
    "## Step 5\n",
    "### Explore a few data samples\n",
    "- Look at the direcotry structure of the dataset\n",
    "- Pay attention to the naming scheme of the image files in the NORMAL and PNEUMONIA sub-directories \n",
    "- Plot a few images from the two categories\n",
    "- Is there a pronounced difference between normal and pneumonia X-rays?\n",
    "- How large are the images? Is the image size fixed?"
   ]
  },
  {
   "cell_type": "code",
   "execution_count": null,
   "id": "4a712835",
   "metadata": {},
   "outputs": [],
   "source": [
    "\n",
    "\n",
    "\n",
    "\n"
   ]
  },
  {
   "cell_type": "markdown",
   "id": "4c71c0c7",
   "metadata": {},
   "source": [
    "## Step 6\n",
    "### Create Pytorch dataloaders for training, validation and testing\n",
    "- Decide data tranformations\n",
    "- Create Pytorch datasets from the folder structure\n",
    "- Create dataloaders from the corresponding datasets"
   ]
  },
  {
   "cell_type": "code",
   "execution_count": null,
   "id": "154c271b",
   "metadata": {},
   "outputs": [],
   "source": [
    "data_root = './data/chest_xray/'\n",
    "train_data_dir = 'train'\n",
    "test_data_dir = 'test'\n",
    "val_data_dir = 'val'"
   ]
  },
  {
   "cell_type": "code",
   "execution_count": null,
   "id": "cf204289",
   "metadata": {},
   "outputs": [],
   "source": [
    "import os\n",
    "import torch\n",
    "from # Add import to create a dataset from the pneumonia data structure\n",
    "from # Add import for image transformations"
   ]
  },
  {
   "cell_type": "code",
   "execution_count": 1,
   "id": "46153e68",
   "metadata": {},
   "outputs": [],
   "source": [
    "## Why Imagenet?\n",
    "IMAGENET_MEAN = [0.485, 0.456, 0.406]\n",
    "IMAGENET_STD  = [0.229, 0.224, 0.225]"
   ]
  },
  {
   "cell_type": "code",
   "execution_count": null,
   "id": "1fd540a1",
   "metadata": {},
   "outputs": [],
   "source": [
    "## All normalizations below done using the image net mean and std. deviation\n",
    "## as described here: https://discuss.pytorch.org/t/how-to-preprocess-input-for-pre-trained-networks/683/2 \n",
    "\n",
    "train_transforms = transforms.Compose([\n",
    "    transforms.Resize(256),\n",
    "    transforms.CenterCrop((224,224)),\n",
    "    transforms.RandomRotation(degrees=5),\n",
    "    transforms.ColorJitter(brightness=0.1, contrast=0.1),\n",
    "    transforms.ToTensor(),\n",
    "    transforms.Normalize(IMAGENET_MEAN,\n",
    "                         IMAGENET_STD)\n",
    "])\n",
    "\n",
    "test_transforms =  transforms.Compose([\n",
    "    transforms.Resize(256),\n",
    "    transforms.CenterCrop((224,224)),\n",
    "    transforms.ToTensor(),\n",
    "    transforms.Normalize(IMAGENET_MEAN,\n",
    "                         IMAGENET_STD)\n",
    "])\n",
    "\n",
    "\n",
    "val_transforms =  transforms.Compose([\n",
    "    transforms.Resize(256),\n",
    "    transforms.CenterCrop((224,224)),\n",
    "    transforms.ToTensor(),\n",
    "    transforms.Normalize(IMAGENET_MEAN,\n",
    "                         IMAGENET_STD)])"
   ]
  },
  {
   "cell_type": "code",
   "execution_count": null,
   "id": "08b99230",
   "metadata": {},
   "outputs": [],
   "source": [
    "train_dataset = ImageFolder(os.path.join(data_root,train_data_dir),transform=train_transforms)\n",
    "test_dataset = ImageFolder(os.path.join(data_root,test_data_dir), transform=test_transforms)\n",
    "val_dataset = ImageFolder(os.path.join(data_root,val_data_dir), transform=val_transforms)\n",
    "print(train_dataset, test_dataset, val_dataset)"
   ]
  },
  {
   "cell_type": "code",
   "execution_count": null,
   "id": "4c22252d",
   "metadata": {},
   "outputs": [],
   "source": [
    "from torch.utils.data import DataLoader"
   ]
  },
  {
   "cell_type": "code",
   "execution_count": null,
   "id": "3ee3d6ee",
   "metadata": {},
   "outputs": [],
   "source": [
    "train_loader = DataLoader(train_dataset, batch_size=32, shuffle=True)\n",
    "test_loader = DataLoader(test_dataset, batch_size=32, shuffle=True)\n",
    "val_loader = DataLoader(val_dataset, batch_size=32, shuffle=True)"
   ]
  },
  {
   "cell_type": "markdown",
   "id": "0d75cf17",
   "metadata": {},
   "source": [
    "## Step 7\n",
    "### Sanity test the data \n",
    "- Plot a few random data points"
   ]
  },
  {
   "cell_type": "code",
   "execution_count": null,
   "id": "79e8af91",
   "metadata": {},
   "outputs": [],
   "source": [
    "def denormalize(x):\n",
    "    return x * IMAGENET_STD+IMAGENET_MEAN\n",
    "\n",
    "def tensor_to_img(t):\n",
    "    return t.numpy().transpose(1,2,0)"
   ]
  },
  {
   "cell_type": "code",
   "execution_count": null,
   "id": "9cead26e",
   "metadata": {},
   "outputs": [],
   "source": [
    "sample_X, sample_y = next(iter(train_loader))"
   ]
  },
  {
   "cell_type": "code",
   "execution_count": null,
   "id": "01d6021e",
   "metadata": {},
   "outputs": [],
   "source": [
    "plt.imshow(denormalize(tensor_to_img(sample_X[7])));plt.show()"
   ]
  },
  {
   "cell_type": "markdown",
   "id": "b9627b35",
   "metadata": {},
   "source": [
    "## Step 8\n",
    "### Shop around for a model \\[[Reference](https://pytorch.org/vision/stable/models.html)\\]"
   ]
  },
  {
   "cell_type": "code",
   "execution_count": null,
   "id": "74872cde",
   "metadata": {},
   "outputs": [],
   "source": []
  }
 ],
 "metadata": {
  "kernelspec": {
   "display_name": "Python 3",
   "language": "python",
   "name": "python3"
  },
  "language_info": {
   "codemirror_mode": {
    "name": "ipython",
    "version": 3
   },
   "file_extension": ".py",
   "mimetype": "text/x-python",
   "name": "python",
   "nbconvert_exporter": "python",
   "pygments_lexer": "ipython3",
   "version": "3.8.8"
  }
 },
 "nbformat": 4,
 "nbformat_minor": 5
}
