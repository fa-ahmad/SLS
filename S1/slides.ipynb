{
 "cells": [
  {
   "cell_type": "markdown",
   "id": "0ac1e404",
   "metadata": {
    "slideshow": {
     "slide_type": "notes"
    }
   },
   "source": [
    "This notebook can be published as a slide show locally on a system with:\n",
    "\n",
    "```BASH\n",
    "jupyter nbconvert slides.ipynb --to slides --post serve\n",
    "```\n",
    "\n",
    "To make changes to the notebook and have the slides updated, follow these instructions:\n",
    "- Install the `entr` package for linux or Mac(Brew)\n",
    "\n",
    "- Generate slides using the command below:\n",
    "```BASH\n",
    "entr -r jupyter nbconvert slides.ipynb --to slides --post serve --ServePostProcessor.open_in_browser=False\n",
    "```\n",
    "\n",
    "- The output on the command line should look something like this:\n",
    "```\n",
    "[NbConvertApp] Redirecting reveal.js requests to https://cdnjs.cloudflare.com/ajax/libs/reveal.js/3.5.0\n",
    "Serving your slides at http://127.0.0.1:8000/slides.slides.html\n",
    "```\n",
    "\n",
    "- Open the URL from the message shown on the command line in a browser.\n",
    "\n",
    "- Make changes to any of the cell, press Ctlr/Cmd+S to save the changes and refresh the brower page to view the changes reflected in the slides.\n",
    "\n",
    "Alternatively install the [RISE](https://rise.readthedocs.io/en/stable/) extension which lets you launch the slideshow right from the toolbar of this notebook.\n",
    "\n",
    "**Note:** The resources, like images, used in the slides are in the `res` folder. This folder should be copied along with this notebook to other machines to render the slides properly. \n"
   ]
  },
  {
   "cell_type": "markdown",
   "id": "c16b192f",
   "metadata": {
    "slideshow": {
     "slide_type": "slide"
    }
   },
   "source": [
    "<img src=res/Udacity-Enterprise-logo-RGB.png height=40 width=160 align=\"right\"/><br><br><br><br><br>    \n",
    "<center><h1> Structured Learning Session </h1></center>\n",
    "<img src=\"res/udacity-background.png\" width=1024/>\n",
    "<center><h3> Machine Learning Engineer Nanodegree(ND009t) </h3></center>"
   ]
  },
  {
   "cell_type": "markdown",
   "id": "a41aec62",
   "metadata": {
    "slideshow": {
     "slide_type": "notes"
    }
   },
   "source": [
    "## Checklist\n",
    "- Mic check\n",
    "- Camera check\n",
    "- Request attendees to turn on camera"
   ]
  },
  {
   "cell_type": "markdown",
   "id": "d558c1f4",
   "metadata": {
    "slideshow": {
     "slide_type": "notes"
    }
   },
   "source": [
    "## Intros\n",
    "- Learner intro\n",
    "    - Name\n",
    "    - Most fun thing you built with ML\n",
    "- My Intro"
   ]
  },
  {
   "cell_type": "markdown",
   "id": "286418ee",
   "metadata": {
    "slideshow": {
     "slide_type": "slide"
    }
   },
   "source": [
    "<img src=res/Udacity-Enterprise-logo-RGB.png height=40 width=160 align=\"right\"/><br><br><br><br><br>  \n",
    "## Agenda\n",
    "---\n"
   ]
  },
  {
   "cell_type": "markdown",
   "id": "af6a472e",
   "metadata": {
    "slideshow": {
     "slide_type": "fragment"
    }
   },
   "source": [
    "- Overview"
   ]
  },
  {
   "cell_type": "markdown",
   "id": "d7a733b9",
   "metadata": {
    "slideshow": {
     "slide_type": "fragment"
    }
   },
   "source": [
    "- Project setup"
   ]
  },
  {
   "cell_type": "markdown",
   "id": "045f205a",
   "metadata": {
    "slideshow": {
     "slide_type": "fragment"
    }
   },
   "source": [
    "- Immersion Rounds"
   ]
  },
  {
   "cell_type": "markdown",
   "id": "c33fcbf2",
   "metadata": {
    "slideshow": {
     "slide_type": "slide"
    }
   },
   "source": [
    "<img src=res/Udacity-Enterprise-logo-RGB.png height=40 width=160 align=\"right\"/><br><br><br><br><br>  \n",
    "## Overview\n",
    "---\n"
   ]
  },
  {
   "cell_type": "markdown",
   "id": "66064456",
   "metadata": {
    "slideshow": {
     "slide_type": "fragment"
    }
   },
   "source": [
    "- Why are we doing these sessions?"
   ]
  },
  {
   "cell_type": "markdown",
   "id": "e1540e32",
   "metadata": {
    "slideshow": {
     "slide_type": "fragment"
    }
   },
   "source": [
    "- Session structure"
   ]
  },
  {
   "cell_type": "markdown",
   "id": "b336f97a",
   "metadata": {
    "slideshow": {
     "slide_type": "fragment"
    }
   },
   "source": [
    "- Expectation setting"
   ]
  },
  {
   "cell_type": "markdown",
   "id": "5a5800a1",
   "metadata": {
    "slideshow": {
     "slide_type": "subslide"
    }
   },
   "source": [
    "<img src=res/Udacity-Enterprise-logo-RGB.png height=40 width=160 align=\"right\"/><br><br><br><br><br>  \n",
    "### Why are we doing these sessions?\n",
    "---\n"
   ]
  },
  {
   "cell_type": "markdown",
   "id": "6bbb2406",
   "metadata": {
    "slideshow": {
     "slide_type": "fragment"
    }
   },
   "source": [
    "#### Objective 1/2: Accelerate learning"
   ]
  },
  {
   "cell_type": "markdown",
   "id": "e13caa47",
   "metadata": {
    "slideshow": {
     "slide_type": "fragment"
    }
   },
   "source": [
    "- Broaden perspective through additional exercises"
   ]
  },
  {
   "cell_type": "markdown",
   "id": "0e7151c1",
   "metadata": {
    "slideshow": {
     "slide_type": "fragment"
    }
   },
   "source": [
    "- Catalyze mastery through hands-on problem solving"
   ]
  },
  {
   "cell_type": "markdown",
   "id": "32f8a245",
   "metadata": {
    "slideshow": {
     "slide_type": "fragment"
    }
   },
   "source": [
    "- Encourage real-time collaboration with fellow learners"
   ]
  },
  {
   "cell_type": "markdown",
   "id": "67777dc4",
   "metadata": {
    "slideshow": {
     "slide_type": "fragment"
    }
   },
   "source": [
    "- Master the art of troubleshooting"
   ]
  },
  {
   "cell_type": "markdown",
   "id": "13b68542",
   "metadata": {
    "slideshow": {
     "slide_type": "fragment"
    }
   },
   "source": [
    "<center><iframe width=\"560\" height=\"315\" src=\"https://www.youtube.com/embed/lT3vGaOLWqE?start=530&end=640\" title=\"YouTube video player\" frameborder=\"0\" allow=\"accelerometer; autoplay; clipboard-write; encrypted-media; gyroscope; picture-in-picture\" allowfullscreen></iframe></center>"
   ]
  },
  {
   "cell_type": "markdown",
   "id": "8b932437",
   "metadata": {
    "slideshow": {
     "slide_type": "subslide"
    }
   },
   "source": [
    "<img src=res/Udacity-Enterprise-logo-RGB.png height=40 width=160 align=\"right\"/><br><br><br><br><br>  \n",
    "### Why are we doing these sessions?\n",
    "---\n"
   ]
  },
  {
   "cell_type": "markdown",
   "id": "bd864578",
   "metadata": {
    "slideshow": {
     "slide_type": "fragment"
    }
   },
   "source": [
    "#### Objective 2/2: Build Up Excitement\n",
    " <img src=res/lego.gif width=500/>\n"
   ]
  },
  {
   "cell_type": "markdown",
   "id": "26ec0893",
   "metadata": {
    "slideshow": {
     "slide_type": "subslide"
    }
   },
   "source": [
    "<img src=res/Udacity-Enterprise-logo-RGB.png height=40 width=160 align=\"right\"/><br><br><br><br><br>  \n",
    "### Session Structure\n",
    "---\n",
    "- Recap [15 min]\n",
    "- Session briefing [15 min]\n",
    "- Immersion Rounds [60 min]\n",
    "- Reflections [15 min]\n",
    "- Q&A [15 min]"
   ]
  },
  {
   "cell_type": "markdown",
   "id": "af75fa9f",
   "metadata": {
    "slideshow": {
     "slide_type": "subslide"
    }
   },
   "source": [
    "<img src=res/Udacity-Enterprise-logo-RGB.png height=40 width=160 align=\"right\"/><br><br><br><br><br>  \n",
    "### Expectation Setting\n",
    "---\n",
    "- Add depth\n",
    "    - Tour de force of Sagemaker\n",
    "- Add variety \n",
    "    - Mobile deployment\n",
    "- What else\n",
    "    - ?"
   ]
  },
  {
   "cell_type": "markdown",
   "id": "077750a7",
   "metadata": {
    "slideshow": {
     "slide_type": "slide"
    }
   },
   "source": [
    "<img src=res/Udacity-Enterprise-logo-RGB.png height=40 width=160 align=\"right\"/><br><br><br><br><br>  \n",
    "## Session 1: An Intro To Machine Learning in The Cloud\n",
    "---\n",
    "<img src=\"res/chessboard.webp\" width=1024/>"
   ]
  },
  {
   "cell_type": "markdown",
   "id": "855dd426",
   "metadata": {
    "slideshow": {
     "slide_type": "subslide"
    }
   },
   "source": [
    "<img src=res/Udacity-Enterprise-logo-RGB.png height=40 width=160 align=\"right\"/><br><br><br><br><br>  \n",
    "### Session Briefing\n",
    "---\n",
    "- Prerequisites\n",
    "- Sagemaker Walkthrough\n",
    "- Introduction to our first project"
   ]
  },
  {
   "cell_type": "markdown",
   "id": "7e7af2e6",
   "metadata": {
    "slideshow": {
     "slide_type": "subslide"
    }
   },
   "source": [
    "<img src=res/Udacity-Enterprise-logo-RGB.png height=40 width=160 align=\"right\"/><br><br><br><br><br>  \n",
    "### Prerequisites\n",
    "---\n",
    "- Scikit-learn experience\n",
    "- Tensorflow and Pytorch experience"
   ]
  },
  {
   "cell_type": "markdown",
   "id": "37db182d",
   "metadata": {
    "slideshow": {
     "slide_type": "subslide"
    }
   },
   "source": [
    "<img src=res/Udacity-Enterprise-logo-RGB.png height=40 width=160 align=\"right\"/><br><br><br><br><br>  \n",
    "### Sagemaker Walkthrough\n",
    "---"
   ]
  },
  {
   "cell_type": "markdown",
   "id": "8c7a5451",
   "metadata": {
    "slideshow": {
     "slide_type": "notes"
    }
   },
   "source": [
    "Learners hould be familiar with the following:\n",
    "\n",
    "- Launching AWS console from their classroom\n",
    "- Navigating to the Sagemaker section on the console\n",
    "- Accessing the billing dashboard \n"
   ]
  },
  {
   "cell_type": "markdown",
   "id": "732d58b7",
   "metadata": {
    "slideshow": {
     "slide_type": "subslide"
    }
   },
   "source": [
    "<img src=res/Udacity-Enterprise-logo-RGB.png height=40 width=160 align=\"right\"/><br><br><br><br><br>  \n",
    "#### Why does Sagemaker exist?\n",
    "---\n",
    "![xkcd](res/xkcd.jpg)\n"
   ]
  },
  {
   "cell_type": "markdown",
   "id": "9d963f16",
   "metadata": {
    "slideshow": {
     "slide_type": "subslide"
    }
   },
   "source": [
    "<img src=res/Udacity-Enterprise-logo-RGB.png height=40 width=160 align=\"right\"/><br><br><br><br><br> \n",
    "#### Why does Sagemaker exist?\n",
    "---\n",
    "- Managed resources\n",
    "- On demand scaling\n",
    "- On demand and usage based pricing options(most resources)\n",
    "\n",
    " <img src=res/yay.gif width=300/>"
   ]
  },
  {
   "cell_type": "markdown",
   "id": "124d27a9",
   "metadata": {
    "slideshow": {
     "slide_type": "subslide"
    }
   },
   "source": [
    "<img src=res/Udacity-Enterprise-logo-RGB.png height=40 width=160 align=\"right\"/><br><br><br><br><br> \n",
    "#### Why does Sagemaker exist?\n",
    "---\n",
    "- Ask for compute and you get a can of <strike>worms</strike> instances!\n",
    "- Ask for a model and you get a container!\n",
    "- Ask for a log and you get Cloudwatch!\n",
    "\n",
    " <img src=res/what.webp width=300/>"
   ]
  },
  {
   "cell_type": "markdown",
   "id": "7f037996",
   "metadata": {
    "slideshow": {
     "slide_type": "subslide"
    }
   },
   "source": [
    "<img src=res/Udacity-Enterprise-logo-RGB.png height=40 width=160 align=\"right\"/><br><br><br><br><br> \n",
    "#### Sagemaker Instances\n",
    "---\n",
    "- In Sagemaker realm instances NOT only represent compute capabilities but they are also tied to specific usage.\n",
    "- Usage types: Notebooks, training, hosting and more \n",
    "- An `ml.p2.xlarge` instance requested for running a notebook CANNOT be used for training a model.\n",
    "- Instance errors are as weird as it gets\n",
    "\n",
    "  <img src=res/tensor.jpeg width=300/>"
   ]
  },
  {
   "cell_type": "markdown",
   "id": "3d19c0d7",
   "metadata": {
    "slideshow": {
     "slide_type": "subslide"
    }
   },
   "source": [
    "<img src=res/Udacity-Enterprise-logo-RGB.png height=40 width=160 align=\"right\"/><br><br><br><br><br> \n",
    "#### Exercise: Spin up A Sagemaker Notebook with an Outrageous Compute\n",
    "---\n",
    "- In keeping with the philosophy of build-break-repeat, try to run into an error\n",
    "- Understand the error message\n",
    "- A word on default quotas a.k.a what you wish is not what you get"
   ]
  },
  {
   "cell_type": "markdown",
   "id": "adfd36c1",
   "metadata": {
    "slideshow": {
     "slide_type": "subslide"
    }
   },
   "source": [
    "<img src=res/Udacity-Enterprise-logo-RGB.png height=40 width=160 align=\"right\"/><br><br><br><br><br>  \n",
    "### Project Intro\n",
    "---\n",
    "## <font color=\"red\"> Take over doctors' jobs??  🤔</font>\n",
    "<br>\n",
    "<img src=\"res/doc.jpeg\"/>"
   ]
  },
  {
   "cell_type": "markdown",
   "id": "0f329395",
   "metadata": {
    "slideshow": {
     "slide_type": "subslide"
    }
   },
   "source": [
    "<img src=res/Udacity-Enterprise-logo-RGB.png height=40 width=160 align=\"right\"/><br><br><br><br><br>  \n",
    "### Project Intro\n",
    "---\n",
    "## <font color=\"Green\"> Build a clinical support application!</font>\n",
    "<br>\n",
    "<img src=\"res/doc.jpeg\"/>"
   ]
  },
  {
   "cell_type": "markdown",
   "id": "ed1cac0e",
   "metadata": {
    "slideshow": {
     "slide_type": "subslide"
    }
   },
   "source": [
    "<img src=res/Udacity-Enterprise-logo-RGB.png height=40 width=160 align=\"right\"/><br><br><br><br><br>  \n",
    "### Immersion Rounds\n",
    "---\n",
    "- More information and code here: https://github.com/fa-ahmad/SLS/tree/master"
   ]
  },
  {
   "cell_type": "markdown",
   "id": "b49b9f72",
   "metadata": {
    "slideshow": {
     "slide_type": "subslide"
    }
   },
   "source": [
    "<img src=res/Udacity-Enterprise-logo-RGB.png height=40 width=160 align=\"right\"/><br><br><br><br><br>  \n",
    "### Reflection\n",
    "---\n"
   ]
  },
  {
   "cell_type": "markdown",
   "id": "4ee65a66",
   "metadata": {
    "slideshow": {
     "slide_type": "subslide"
    }
   },
   "source": [
    "\n",
    "<img src=res/Udacity-Enterprise-logo-RGB.png height=40 width=160 align=\"right\"/><br><br><br><br><br>  \n",
    "--- \n",
    "<p style=\"font-size:200px;text-align:center\"> Q&A </p> \n",
    "\n"
   ]
  }
 ],
 "metadata": {
  "celltoolbar": "Slideshow",
  "kernelspec": {
   "display_name": "Python 3",
   "language": "python",
   "name": "python3"
  },
  "language_info": {
   "codemirror_mode": {
    "name": "ipython",
    "version": 3
   },
   "file_extension": ".py",
   "mimetype": "text/x-python",
   "name": "python",
   "nbconvert_exporter": "python",
   "pygments_lexer": "ipython3",
   "version": "3.8.8"
  }
 },
 "nbformat": 4,
 "nbformat_minor": 5
}
