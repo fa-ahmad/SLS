{
 "cells": [
  {
   "cell_type": "markdown",
   "id": "0ac1e404",
   "metadata": {
    "slideshow": {
     "slide_type": "notes"
    }
   },
   "source": [
    "This notebook can be published as a slide show locally on a system with:\n",
    "\n",
    "```BASH\n",
    "jupyter nbconvert slides.ipynb --to slides --post serve\n",
    "```\n",
    "\n",
    "To make changes to the notebook and have the slides updated, follow these instructions:\n",
    "- Install the `entr` package for linux or Mac(Brew)\n",
    "\n",
    "- Generate slides using the command below:\n",
    "```BASH\n",
    "entr -r jupyter nbconvert slides.ipynb --to slides --post serve --ServePostProcessor.open_in_browser=False\n",
    "```\n",
    "\n",
    "- The output on the command line should look something like this:\n",
    "```\n",
    "[NbConvertApp] Redirecting reveal.js requests to https://cdnjs.cloudflare.com/ajax/libs/reveal.js/3.5.0\n",
    "Serving your slides at http://127.0.0.1:8000/slides.slides.html\n",
    "```\n",
    "\n",
    "- Open the URL from the message shown on the command line in a browser.\n",
    "\n",
    "- Make changes to any of the cell, press Ctlr/Cmd+S to save the changes and refresh the brower page to view the changes reflected in the slides.\n",
    "\n",
    "Alternatively install the [RISE](https://rise.readthedocs.io/en/stable/) extension which lets you launch the slideshow right from the toolbar of this notebook.\n",
    "\n",
    "**Note:** The resources, like images, used in the slides are in the `res` folder. This folder should be copied along with this notebook to other machines to render the slides properly. \n"
   ]
  },
  {
   "cell_type": "markdown",
   "id": "c16b192f",
   "metadata": {
    "slideshow": {
     "slide_type": "slide"
    }
   },
   "source": [
    "<img src=res/Udacity-Enterprise-logo-RGB.png height=40 width=160 align=\"right\"/><br><br><br><br><br>    \n",
    "<center><h1> Structured Learning Session </h1></center>\n",
    "<img src=\"res/udacity-background.png\" width=1024/>\n",
    "<center><h3> Machine Learning Engineer Nanodegree(ND009t) </h3></center>"
   ]
  },
  {
   "cell_type": "markdown",
   "id": "a41aec62",
   "metadata": {
    "slideshow": {
     "slide_type": "notes"
    }
   },
   "source": [
    "## Checklist\n",
    "- Mic check\n",
    "- Camera check\n",
    "- Request attendees to turn on camera"
   ]
  },
  {
   "cell_type": "markdown",
   "id": "26ec0893",
   "metadata": {
    "slideshow": {
     "slide_type": "subslide"
    }
   },
   "source": [
    "<img src=res/Udacity-Enterprise-logo-RGB.png height=40 width=160 align=\"right\"/><br><br><br><br><br>  \n",
    "### Session Structure\n",
    "---\n",
    "- Setup [15 min]\n",
    "- Recap [15 min]\n",
    "- Immersion Rounds [60 min]\n",
    "- Reflections and Outro [20 min]\n",
    "- Q&A [10 min]"
   ]
  },
  {
   "cell_type": "markdown",
   "id": "077750a7",
   "metadata": {
    "slideshow": {
     "slide_type": "slide"
    }
   },
   "source": [
    "<img src=res/Udacity-Enterprise-logo-RGB.png height=40 width=160 align=\"right\"/><br><br><br><br><br>  \n",
    "## Session 3: Build a clinical support application (contd..)\n",
    "---\n",
    "<img src=\"res/doc.jpeg\" width=1024/>"
   ]
  },
  {
   "cell_type": "markdown",
   "id": "f305ba01",
   "metadata": {
    "slideshow": {
     "slide_type": "subslide"
    }
   },
   "source": [
    "<img src=res/Udacity-Enterprise-logo-RGB.png height=40 width=160 align=\"right\"/><br><br><br><br><br>  \n",
    "### Set up\n",
    "---\n",
    "- Update notebook in Sagemaker to https://github.com/fa-ahmad/SLS/blob/master/S3/pneumonia.ipynb "
   ]
  },
  {
   "cell_type": "markdown",
   "id": "ee615e93",
   "metadata": {
    "slideshow": {
     "slide_type": "subslide"
    }
   },
   "source": [
    "<img src=res/Udacity-Enterprise-logo-RGB.png height=40 width=160 align=\"right\"/><br><br><br><br><br>  \n",
    "### Recap: Session 2\n",
    "---"
   ]
  },
  {
   "cell_type": "markdown",
   "id": "85c9f099",
   "metadata": {
    "slideshow": {
     "slide_type": "fragment"
    }
   },
   "source": [
    "- Understand what pneumonia identification entails\n",
    "- Get an understanding of performance baselines: metrics and human performance\n",
    "- Decide our approach to solving the problem: use a pretrained model (why?)\n",
    "- Loading the data from `train`, `test` and `validation` folders using `torchvision.datasets import ImageFolder`\n",
    "- Transform the data using `torchvision.transforms`\n",
    "- Build a new model from a pre-trained model\n",
    "- Train our model on a subset of the training data as a sanity test (using the notebook's compute resource)"
   ]
  },
  {
   "cell_type": "markdown",
   "id": "9eddb652",
   "metadata": {
    "slideshow": {
     "slide_type": "subslide"
    }
   },
   "source": [
    "<img src=res/Udacity-Enterprise-logo-RGB.png height=40 width=160 align=\"right\"/><br><br><br><br><br>  \n",
    "### Overview: Session 3\n",
    "---"
   ]
  },
  {
   "cell_type": "markdown",
   "id": "ee82c611",
   "metadata": {
    "slideshow": {
     "slide_type": "fragment"
    }
   },
   "source": [
    "- Create a training script for training on a separate instance\n",
    "- Copy data to S3 for training on a separate instance\n",
    "- Train our model on a more powerful instance\n",
    "- Deploy the trained model\n",
    "- Access the deployed model's endpoints"
   ]
  },
  {
   "cell_type": "markdown",
   "id": "ed1cac0e",
   "metadata": {
    "slideshow": {
     "slide_type": "subslide"
    }
   },
   "source": [
    "<img src=res/Udacity-Enterprise-logo-RGB.png height=40 width=160 align=\"right\"/><br><br><br><br><br>  \n",
    "### Immersion Rounds\n",
    "---\n",
    "- Finish step 13 - 16 in the notebook\n",
    "- Fast-paced with breakout team exercises"
   ]
  },
  {
   "cell_type": "markdown",
   "id": "2234bf6f",
   "metadata": {
    "slideshow": {
     "slide_type": "subslide"
    }
   },
   "source": [
    "<img src=res/Udacity-Enterprise-logo-RGB.png height=40 width=160 align=\"right\"/><br><br><br><br><br>  \n",
    "### Reflection and Outro\n",
    "---\n",
    "- Save notebook locally or upload to Github\n",
    "- Turn off instances / delete resources\n",
    "- Reviewing the Sagemaker model\n",
    "- Test set performance\n",
    "- How to view session slides\n",
    "- Next up in sessions 4/5: Web app deployment / Stremlit application\n",
    "- Provide feedback: https://forms.gle/4vYL5ym9zU5zLwmR8"
   ]
  },
  {
   "cell_type": "markdown",
   "id": "c8bbe50d",
   "metadata": {
    "slideshow": {
     "slide_type": "subslide"
    }
   },
   "source": [
    "\n",
    "<img src=res/Udacity-Enterprise-logo-RGB.png height=40 width=160 align=\"right\"/><br><br><br><br><br>  \n",
    "--- \n",
    "<p style=\"font-size:200px;text-align:center\"> Q&A </p> \n",
    "\n"
   ]
  }
 ],
 "metadata": {
  "celltoolbar": "Slideshow",
  "kernelspec": {
   "display_name": "Python 3",
   "language": "python",
   "name": "python3"
  },
  "language_info": {
   "codemirror_mode": {
    "name": "ipython",
    "version": 3
   },
   "file_extension": ".py",
   "mimetype": "text/x-python",
   "name": "python",
   "nbconvert_exporter": "python",
   "pygments_lexer": "ipython3",
   "version": "3.8.8"
  }
 },
 "nbformat": 4,
 "nbformat_minor": 5
}
